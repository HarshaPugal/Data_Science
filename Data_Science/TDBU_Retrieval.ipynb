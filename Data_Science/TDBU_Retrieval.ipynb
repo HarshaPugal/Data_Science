{
 "cells": [
  {
   "cell_type": "code",
   "execution_count": 131,
   "id": "a864b25a",
   "metadata": {
    "scrolled": true
   },
   "outputs": [
    {
     "name": "stdout",
     "output_type": "stream",
     "text": [
      "The original contents of the file is...\n",
      "1,3,5,7\n",
      "1,5,6,9\n",
      "2,3,5,9\n",
      "1,3,7,9,14\n",
      "1,2,7,9\n",
      "1,3,6,8,12\n",
      "1,2,3,4\n",
      "1,3,6,7,8\n",
      "2,3,5,6,7\n",
      "1,3,4\n"
     ]
    }
   ],
   "source": [
    "fp=open(\"sample.txt\",\"w+\")\n",
    "fp.writelines([\"1,3,5,7\",\"\\n1,5,6,9\",\"\\n2,3,5,9\",\"\\n1,3,7,9,14\",\"\\n1,2,7,9\",\"\\n1,3,6,8,12\",\"\\n1,2,3,4\",\"\\n1,3,6,7,8\",\"\\n2,3,5,6,7\",\"\\n1,3,4\"])\n",
    "fp.seek(0)\n",
    "print(\"The original contents of the file is...\")\n",
    "for lines in fp.readlines():\n",
    "    file=lines.strip()\n",
    "    print(file)\n",
    "fp.close()"
   ]
  },
  {
   "cell_type": "code",
   "execution_count": 1,
   "id": "ddc3b66c",
   "metadata": {
    "scrolled": true
   },
   "outputs": [
    {
     "name": "stdout",
     "output_type": "stream",
     "text": [
      "1,3,5,7\n",
      "1,3,4\n",
      "1,5,6,9\n",
      "2,3,5,6,7\n",
      "2,3,5,9\n",
      "1,3,6,7,8\n",
      "1,3,7,9,14\n",
      "1,2,3,4\n",
      "1,2,7,9\n",
      "1,3,6,8,12\n"
     ]
    }
   ],
   "source": [
    "fp=open(\"sample.txt\",\"r\")\n",
    "fp.seek(0)\n",
    "data=fp.readlines()\n",
    "count=len(data)\n",
    "start=0\n",
    "while((count or start)!=(int((len(data))/2))):\n",
    "    print(data[start].strip())\n",
    "    if(start!=(count-1)):\n",
    "        print(data[count-1].strip())\n",
    "    start=start+1\n",
    "    count=count-1\n",
    "fp.close()"
   ]
  },
  {
   "cell_type": "code",
   "execution_count": null,
   "id": "681c55cc",
   "metadata": {},
   "outputs": [],
   "source": []
  },
  {
   "cell_type": "code",
   "execution_count": null,
   "id": "9aa71109",
   "metadata": {},
   "outputs": [],
   "source": []
  }
 ],
 "metadata": {
  "kernelspec": {
   "display_name": "Python 3 (ipykernel)",
   "language": "python",
   "name": "python3"
  },
  "language_info": {
   "codemirror_mode": {
    "name": "ipython",
    "version": 3
   },
   "file_extension": ".py",
   "mimetype": "text/x-python",
   "name": "python",
   "nbconvert_exporter": "python",
   "pygments_lexer": "ipython3",
   "version": "3.9.13"
  }
 },
 "nbformat": 4,
 "nbformat_minor": 5
}
