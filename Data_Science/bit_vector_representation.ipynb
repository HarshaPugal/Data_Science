{
 "cells": [
  {
   "cell_type": "code",
   "execution_count": 47,
   "id": "9f702728",
   "metadata": {},
   "outputs": [
    {
     "name": "stdout",
     "output_type": "stream",
     "text": [
      "1  :  [1, 1, 0, 1, 1, 1, 1, 1, 0, 1]   8\n",
      "2  :  [0, 0, 1, 0, 1, 0, 1, 0, 1, 0]   4\n",
      "3  :  [1, 0, 1, 1, 0, 1, 1, 1, 1, 1]   8\n",
      "4  :  [0, 0, 0, 0, 0, 0, 1, 0, 0, 1]   2\n",
      "5  :  [1, 1, 1, 0, 0, 0, 0, 0, 1, 0]   4\n",
      "6  :  [0, 1, 0, 0, 0, 1, 0, 1, 1, 0]   4\n",
      "7  :  [1, 0, 0, 1, 1, 0, 0, 1, 1, 0]   5\n",
      "8  :  [0, 0, 0, 0, 0, 1, 0, 1, 0, 0]   2\n",
      "9  :  [0, 1, 1, 1, 1, 0, 0, 0, 0, 0]   4\n",
      "12  :  [0, 0, 0, 0, 0, 1, 0, 0, 0, 0]   1\n",
      "14  :  [0, 0, 0, 1, 0, 0, 0, 0, 0, 0]   1\n"
     ]
    }
   ],
   "source": [
    "fp=open(\"sample.txt\",\"r\")\n",
    "fp.seek(0)\n",
    "list1=[]\n",
    "list2=[]\n",
    "bvr=[]\n",
    "data=fp.readlines()\n",
    "for i in data:\n",
    "    i=i.strip()\n",
    "    i=i.split(',')\n",
    "    for j in i:\n",
    "        list1.append(int(j))\n",
    "for i in list1:\n",
    "    if(i not in list2):\n",
    "        list2.append(i)\n",
    "list2.sort()\n",
    "for i in range(0,len(list2)):\n",
    "    list2[i]=str(list2[i])\n",
    "for i in list2:\n",
    "    bvr.clear()\n",
    "    no_of_ones=0\n",
    "    for j in data:\n",
    "        j=j.strip()\n",
    "        j=j.split(',')\n",
    "        if(i in j):\n",
    "            bvr.append(1)\n",
    "            no_of_ones=no_of_ones+1\n",
    "        else:\n",
    "            bvr.append(0)\n",
    "    print(i,\" : \",bvr,\" \",no_of_ones)"
   ]
  },
  {
   "cell_type": "code",
   "execution_count": null,
   "id": "2abf7b05",
   "metadata": {},
   "outputs": [],
   "source": []
  }
 ],
 "metadata": {
  "kernelspec": {
   "display_name": "Python 3 (ipykernel)",
   "language": "python",
   "name": "python3"
  },
  "language_info": {
   "codemirror_mode": {
    "name": "ipython",
    "version": 3
   },
   "file_extension": ".py",
   "mimetype": "text/x-python",
   "name": "python",
   "nbconvert_exporter": "python",
   "pygments_lexer": "ipython3",
   "version": "3.9.13"
  }
 },
 "nbformat": 4,
 "nbformat_minor": 5
}
