{
 "cells": [
  {
   "cell_type": "code",
   "execution_count": 7,
   "metadata": {},
   "outputs": [
    {
     "name": "stdout",
     "output_type": "stream",
     "text": [
      "[1, 2, 3, 5, 6, 7, 9]\n",
      "{'1': '1101111101', '2': '0010101010', '3': '1011011111', '4': '0000001001', '5': '1110000010', '6': '0100010110', '7': '1001100110', '8': '0000010100', '9': '0111100000', '12': '0000010000', '14': '0001000000'}\n",
      "[[1, 3], [1, 6], [1, 7], [1, 9], [2, 3], [3, 5], [3, 6], [3, 7], [1, 3, 7]]\n"
     ]
    }
   ],
   "source": [
    "from itertools import combinations\n",
    "fp=open(\"sample.txt\",\"r\")\n",
    "fp.seek(0)\n",
    "\"\"\" defined a function to perform AND operation on the combination list and to append \n",
    " the list that contains number of ones greater than or equal to 3 in their ANDed binary expression..\"\"\"\n",
    "def ANDing_permutationList(perm_list,bvr,minimum_support,result):\n",
    "    for i in range(0,len(perm_list)):\n",
    "        leng=len(perm_list[i])\n",
    "        for j in range(0,len(perm_list[i])):\n",
    "            if(str(perm_list[i][0]) in bvr):\n",
    "                r=int((bvr[str(perm_list[i][0])]),2)\n",
    "                for l in range(1,leng):\n",
    "                    if(str(perm_list[i][l]) in bvr):\n",
    "                        r=int(r) & int((bvr[str(perm_list[i][l])]),2)\n",
    "                r=bin(r)\n",
    "                c=0\n",
    "                for k in str(r):\n",
    "                    if(k=='1'):\n",
    "                        c=c+1\n",
    "                if(c>=minimum_support):\n",
    "                    \n",
    "                    if(perm_list[i] not in result):\n",
    "                        result.append(perm_list[i])\n",
    "list1=[]\n",
    "list2=[] #Created to store the unique items\n",
    "perm_list=[]\n",
    "minimum_support=3\n",
    "new_list=[] #Created to store the unique items which has 3 or more than 3 ones in their bit vector representation\n",
    "outer_list=[]\n",
    "result=[]\n",
    "data=fp.readlines()\n",
    "for i in data:\n",
    "    i=i.strip()\n",
    "    i=i.split(',')\n",
    "    for j in i:\n",
    "        list1.append(int(j))\n",
    "for i in list1:\n",
    "    if(i not in list2):\n",
    "        list2.append(i)\n",
    "list2.sort()  #Sorted the list that contains the unique items\n",
    "for i in range(0,len(list2)):\n",
    "    list2[i]=str(list2[i])\n",
    "#Found the binary numbers for the corresponding elements in the file\n",
    "for i in list2:\n",
    "    bits=\"\" \n",
    "    no_of_ones=0\n",
    "    for j in data:\n",
    "        j=j.strip()\n",
    "        j=j.split(',')\n",
    "        if(i in j):\n",
    "            bits=bits+'1'\n",
    "            no_of_ones=no_of_ones+1\n",
    "        else:\n",
    "            bits=bits+'0'\n",
    "    outer_list.append(bits)\n",
    "    if(no_of_ones>=3):\n",
    "        new_list.append(int(i))\n",
    "print(new_list)\n",
    "#Stored the binary numbers as the value and the corresponding element as a key in dictionary\n",
    "bvr={}\n",
    "for list2,outer_list in zip(list2,outer_list):\n",
    "    bvr[list2]=outer_list\n",
    "print(bvr)\n",
    "#Found and stored the combinations of the unique elements in the list perm_list\n",
    "for i in range(2,len(new_list)):\n",
    "    comb=combinations(new_list,i)\n",
    "    for i in list(comb):\n",
    "        perm_list.append(list(i))\n",
    "ANDing_permutationList(perm_list,bvr,minimum_support,result) # function call\n",
    "print(result)"
   ]
  },
  {
   "cell_type": "code",
   "execution_count": null,
   "metadata": {},
   "outputs": [],
   "source": []
  }
 ],
 "metadata": {
  "kernelspec": {
   "display_name": "Python 3",
   "language": "python",
   "name": "python3"
  },
  "language_info": {
   "codemirror_mode": {
    "name": "ipython",
    "version": 3
   },
   "file_extension": ".py",
   "mimetype": "text/x-python",
   "name": "python",
   "nbconvert_exporter": "python",
   "pygments_lexer": "ipython3",
   "version": "3.12.0"
  }
 },
 "nbformat": 4,
 "nbformat_minor": 2
}
